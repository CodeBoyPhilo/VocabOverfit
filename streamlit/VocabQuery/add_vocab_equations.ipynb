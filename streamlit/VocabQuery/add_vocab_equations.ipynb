{
 "cells": [
  {
   "cell_type": "code",
   "execution_count": 1,
   "id": "f1658ee9-ebf5-42e1-9116-637b66669844",
   "metadata": {},
   "outputs": [],
   "source": [
    "from IPython.display import clear_output\n",
    "import psycopg2"
   ]
  },
  {
   "cell_type": "code",
   "execution_count": 2,
   "id": "b08b3f97-5990-4273-958d-6e7d5b83a18a",
   "metadata": {},
   "outputs": [],
   "source": [
    "conn = psycopg2.connect(\n",
    "    dbname=\"gre_vocabulary_psql\",\n",
    "    user=\"phil_oh\",\n",
    "    host=\"localhost\",\n",
    ")\n",
    "\n",
    "cursor = conn.cursor()"
   ]
  },
  {
   "cell_type": "code",
   "execution_count": 3,
   "id": "9ba2965a-c3df-4ca9-8b2f-d99361c829ee",
   "metadata": {},
   "outputs": [],
   "source": [
    "def query_vocab(vocab:str):\n",
    "    cursor.execute(\"\"\"\n",
    "    SELECT * \n",
    "    FROM vocabulary.gre_3000 \n",
    "    WHERE vocabulary = LOWER(%s);\n",
    "    \"\"\", (vocab,)),\n",
    "    result = cursor.fetchall()\n",
    "    if len(result) == 0:\n",
    "        return False\n",
    "    else:\n",
    "        return True"
   ]
  },
  {
   "cell_type": "code",
   "execution_count": 4,
   "id": "bc28af6d-944d-4899-be9a-83f87c4ab719",
   "metadata": {},
   "outputs": [],
   "source": [
    "def add_vocab(vocab:str, list:str):\n",
    "    vocabulary = vocab\n",
    "    ch_meaning = input(\"ch: \")\n",
    "    en_meaning = input(\"en: \")\n",
    "    equation_1 = input(\"equation 1: \")\n",
    "    equation_2 = input(\"equation 2: \")\n",
    "    list = list\n",
    "\n",
    "    update_table = \"\"\"\n",
    "    INSERT INTO vocabulary.gre_3000 (vocabulary, ch_meaning, en_meaning, equation_1, equation_2, list)\n",
    "    VALUES (LOWER(%s), %s, LOWER(%s), LOWER(%s), LOWER(%s), LOWER(%s));\n",
    "    \"\"\"\n",
    "    cursor.execute(update_table, (vocabulary, ch_meaning, en_meaning, equation_1, equation_2, list))\n",
    "    conn.commit()"
   ]
  },
  {
   "cell_type": "code",
   "execution_count": 5,
   "id": "a429a690-3aa4-48ce-ac3b-a4b3118d50c5",
   "metadata": {},
   "outputs": [],
   "source": [
    "def update_equations(vocab:str, list:str):\n",
    "    vocabulary = vocab\n",
    "    equation_1 = input(\"equation 1: \")\n",
    "    equation_2 = input(\"equation 2: \")\n",
    "\n",
    "    update_table = \"\"\"\n",
    "    UPDATE vocabulary.gre_3000\n",
    "    SET\n",
    "        equation_1 = LOWER(%s),\n",
    "        equation_2 = LOWER(%s),\n",
    "        list = LOWER(%s)\n",
    "    WHERE\n",
    "        vocabulary = %s\n",
    "    \"\"\"\n",
    "    cursor.execute(update_table, (equation_1, equation_2, list, vocabulary))\n",
    "    conn.commit()"
   ]
  },
  {
   "cell_type": "code",
   "execution_count": 6,
   "id": "7f5e9417-4350-4b88-95b6-e052907c85f9",
   "metadata": {},
   "outputs": [],
   "source": [
    "def add_vocab_equations(vocab:str, list:str):\n",
    "    if vocab != 'exit':\n",
    "        if query_vocab(vocab):\n",
    "            update_equations(vocab, list)\n",
    "        else:\n",
    "            add_vocab(vocab, list)\n",
    "        return False\n",
    "    else:\n",
    "        return True"
   ]
  },
  {
   "cell_type": "code",
   "execution_count": 18,
   "id": "431a569f-9367-4ae1-a914-09be8527c259",
   "metadata": {},
   "outputs": [],
   "source": [
    "cur = 0"
   ]
  },
  {
   "cell_type": "code",
   "execution_count": 20,
   "id": "b06c2539-2b9c-45f9-9d9b-418c0c308c7c",
   "metadata": {},
   "outputs": [
    {
     "name": "stderr",
     "output_type": "stream",
     "text": [
      "已背: 100%|███████████████████████| 105/105 [02:47<00:00, 16.75s/it]\n"
     ]
    }
   ],
   "source": [
    "from tqdm import tqdm\n",
    "\n",
    "# cursor.execute(\"SELECT COUNT(*) FROM vocabulary.gre_3000 WHERE list='list23'\")\n",
    "# n_rest = 105-cursor.fetchall()[0][0]\n",
    "for _ in tqdm(range(cur,105), initial=cur, total=105, desc=\"已背: \"):\n",
    "    vocab = input(\"vocab: \")\n",
    "    list = 'list27'\n",
    "    end = add_vocab_equations(vocab, list)\n",
    "    cur += 1\n",
    "    clear_output()"
   ]
  },
  {
   "cell_type": "code",
   "execution_count": 21,
   "id": "f0f11d02-7e5f-4fbc-be80-09f8240e62b3",
   "metadata": {},
   "outputs": [],
   "source": [
    "cursor.close()\n",
    "conn.close()"
   ]
  },
  {
   "cell_type": "code",
   "execution_count": 10,
   "id": "31bced8b-26c8-42d5-a0f8-73b27150243a",
   "metadata": {},
   "outputs": [],
   "source": [
    "import time"
   ]
  },
  {
   "cell_type": "code",
   "execution_count": 7,
   "id": "8ea5fc30-e531-4205-8513-0231d77945ee",
   "metadata": {},
   "outputs": [
    {
     "ename": "KeyboardInterrupt",
     "evalue": "Interrupted by user",
     "output_type": "error",
     "traceback": [
      "\u001b[0;31m---------------------------------------------------------------------------\u001b[0m",
      "\u001b[0;31mKeyboardInterrupt\u001b[0m                         Traceback (most recent call last)",
      "Cell \u001b[0;32mIn[7], line 2\u001b[0m\n\u001b[1;32m      1\u001b[0m \u001b[38;5;28;01mwhile\u001b[39;00m \u001b[38;5;28;01mTrue\u001b[39;00m:\n\u001b[0;32m----> 2\u001b[0m     vocab \u001b[38;5;241m=\u001b[39m \u001b[38;5;28;43minput\u001b[39;49m\u001b[43m(\u001b[49m\u001b[38;5;124;43m\"\u001b[39;49m\u001b[38;5;124;43mvocab: \u001b[39;49m\u001b[38;5;124;43m\"\u001b[39;49m\u001b[43m)\u001b[49m\n\u001b[1;32m      3\u001b[0m     cursor\u001b[38;5;241m.\u001b[39mexecute(\u001b[38;5;124m\"\u001b[39m\u001b[38;5;124mSELECT * FROM vocabulary.gre_3000 WHERE vocabulary=\u001b[39m\u001b[38;5;132;01m%s\u001b[39;00m\u001b[38;5;124m AND list=\u001b[39m\u001b[38;5;124m'\u001b[39m\u001b[38;5;124mlist19\u001b[39m\u001b[38;5;124m'\u001b[39m\u001b[38;5;124m\"\u001b[39m, (vocab,))\n\u001b[1;32m      4\u001b[0m     res \u001b[38;5;241m=\u001b[39m cursor\u001b[38;5;241m.\u001b[39mfetchall()\n",
      "File \u001b[0;32m~/pyenvs/general-purposes/lib/python3.11/site-packages/ipykernel/kernelbase.py:1262\u001b[0m, in \u001b[0;36mKernel.raw_input\u001b[0;34m(self, prompt)\u001b[0m\n\u001b[1;32m   1260\u001b[0m     msg \u001b[38;5;241m=\u001b[39m \u001b[38;5;124m\"\u001b[39m\u001b[38;5;124mraw_input was called, but this frontend does not support input requests.\u001b[39m\u001b[38;5;124m\"\u001b[39m\n\u001b[1;32m   1261\u001b[0m     \u001b[38;5;28;01mraise\u001b[39;00m StdinNotImplementedError(msg)\n\u001b[0;32m-> 1262\u001b[0m \u001b[38;5;28;01mreturn\u001b[39;00m \u001b[38;5;28;43mself\u001b[39;49m\u001b[38;5;241;43m.\u001b[39;49m\u001b[43m_input_request\u001b[49m\u001b[43m(\u001b[49m\n\u001b[1;32m   1263\u001b[0m \u001b[43m    \u001b[49m\u001b[38;5;28;43mstr\u001b[39;49m\u001b[43m(\u001b[49m\u001b[43mprompt\u001b[49m\u001b[43m)\u001b[49m\u001b[43m,\u001b[49m\n\u001b[1;32m   1264\u001b[0m \u001b[43m    \u001b[49m\u001b[38;5;28;43mself\u001b[39;49m\u001b[38;5;241;43m.\u001b[39;49m\u001b[43m_parent_ident\u001b[49m\u001b[43m[\u001b[49m\u001b[38;5;124;43m\"\u001b[39;49m\u001b[38;5;124;43mshell\u001b[39;49m\u001b[38;5;124;43m\"\u001b[39;49m\u001b[43m]\u001b[49m\u001b[43m,\u001b[49m\n\u001b[1;32m   1265\u001b[0m \u001b[43m    \u001b[49m\u001b[38;5;28;43mself\u001b[39;49m\u001b[38;5;241;43m.\u001b[39;49m\u001b[43mget_parent\u001b[49m\u001b[43m(\u001b[49m\u001b[38;5;124;43m\"\u001b[39;49m\u001b[38;5;124;43mshell\u001b[39;49m\u001b[38;5;124;43m\"\u001b[39;49m\u001b[43m)\u001b[49m\u001b[43m,\u001b[49m\n\u001b[1;32m   1266\u001b[0m \u001b[43m    \u001b[49m\u001b[43mpassword\u001b[49m\u001b[38;5;241;43m=\u001b[39;49m\u001b[38;5;28;43;01mFalse\u001b[39;49;00m\u001b[43m,\u001b[49m\n\u001b[1;32m   1267\u001b[0m \u001b[43m\u001b[49m\u001b[43m)\u001b[49m\n",
      "File \u001b[0;32m~/pyenvs/general-purposes/lib/python3.11/site-packages/ipykernel/kernelbase.py:1305\u001b[0m, in \u001b[0;36mKernel._input_request\u001b[0;34m(self, prompt, ident, parent, password)\u001b[0m\n\u001b[1;32m   1302\u001b[0m \u001b[38;5;28;01mexcept\u001b[39;00m \u001b[38;5;167;01mKeyboardInterrupt\u001b[39;00m:\n\u001b[1;32m   1303\u001b[0m     \u001b[38;5;66;03m# re-raise KeyboardInterrupt, to truncate traceback\u001b[39;00m\n\u001b[1;32m   1304\u001b[0m     msg \u001b[38;5;241m=\u001b[39m \u001b[38;5;124m\"\u001b[39m\u001b[38;5;124mInterrupted by user\u001b[39m\u001b[38;5;124m\"\u001b[39m\n\u001b[0;32m-> 1305\u001b[0m     \u001b[38;5;28;01mraise\u001b[39;00m \u001b[38;5;167;01mKeyboardInterrupt\u001b[39;00m(msg) \u001b[38;5;28;01mfrom\u001b[39;00m \u001b[38;5;28;01mNone\u001b[39;00m\n\u001b[1;32m   1306\u001b[0m \u001b[38;5;28;01mexcept\u001b[39;00m \u001b[38;5;167;01mException\u001b[39;00m:\n\u001b[1;32m   1307\u001b[0m     \u001b[38;5;28mself\u001b[39m\u001b[38;5;241m.\u001b[39mlog\u001b[38;5;241m.\u001b[39mwarning(\u001b[38;5;124m\"\u001b[39m\u001b[38;5;124mInvalid Message:\u001b[39m\u001b[38;5;124m\"\u001b[39m, exc_info\u001b[38;5;241m=\u001b[39m\u001b[38;5;28;01mTrue\u001b[39;00m)\n",
      "\u001b[0;31mKeyboardInterrupt\u001b[0m: Interrupted by user"
     ]
    }
   ],
   "source": [
    "while True:\n",
    "    vocab = input(\"vocab: \")\n",
    "    cursor.execute(\"SELECT * FROM vocabulary.gre_3000 WHERE vocabulary=%s AND list='list19'\", (vocab,))\n",
    "    res = cursor.fetchall()\n",
    "    if len(res) == 0:\n",
    "        cursor.execute(\"UPDATE vocabulary.gre_3000 SET list='list19' WHERE vocabulary=%s\", (vocab,))\n",
    "        conn.commit()\n",
    "        print(\"not found, moved to list19\")\n",
    "    else:\n",
    "        print(res)\n",
    "    cursor.execute(\"SELECT COUNT(*) FROM vocabulary.gre_3000 WHERE list='list19'\")\n",
    "    total = cursor.fetchall()\n",
    "    print(total[0][0])\n",
    "    clear_output(wait=True)"
   ]
  },
  {
   "cell_type": "code",
   "execution_count": null,
   "id": "7681ad28-3ccc-4776-bfa6-6eefc1a32488",
   "metadata": {},
   "outputs": [],
   "source": []
  },
  {
   "cell_type": "code",
   "execution_count": null,
   "id": "1fe4da46-a779-4c81-8c00-9163f37c40c8",
   "metadata": {},
   "outputs": [],
   "source": []
  }
 ],
 "metadata": {
  "kernelspec": {
   "display_name": "Python 3 (ipykernel)",
   "language": "python",
   "name": "python3"
  },
  "language_info": {
   "codemirror_mode": {
    "name": "ipython",
    "version": 3
   },
   "file_extension": ".py",
   "mimetype": "text/x-python",
   "name": "python",
   "nbconvert_exporter": "python",
   "pygments_lexer": "ipython3",
   "version": "3.11.5"
  }
 },
 "nbformat": 4,
 "nbformat_minor": 5
}
